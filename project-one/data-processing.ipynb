{
 "cells": [
  {
   "cell_type": "markdown",
   "metadata": {},
   "source": [
    "# Data Processing"
   ]
  },
  {
   "cell_type": "markdown",
   "metadata": {},
   "source": [
    "## Imports"
   ]
  },
  {
   "cell_type": "code",
   "execution_count": 19,
   "metadata": {},
   "outputs": [],
   "source": [
    "import pandas as pd"
   ]
  },
  {
   "cell_type": "markdown",
   "metadata": {},
   "source": [
    "### Read the CSV file"
   ]
  },
  {
   "cell_type": "code",
   "execution_count": 20,
   "metadata": {},
   "outputs": [
    {
     "data": {
      "text/html": [
       "<div>\n",
       "<style scoped>\n",
       "    .dataframe tbody tr th:only-of-type {\n",
       "        vertical-align: middle;\n",
       "    }\n",
       "\n",
       "    .dataframe tbody tr th {\n",
       "        vertical-align: top;\n",
       "    }\n",
       "\n",
       "    .dataframe thead th {\n",
       "        text-align: right;\n",
       "    }\n",
       "</style>\n",
       "<table border=\"1\" class=\"dataframe\">\n",
       "  <thead>\n",
       "    <tr style=\"text-align: right;\">\n",
       "      <th></th>\n",
       "      <th>Source 1 - full address</th>\n",
       "      <th>Source 1 - phone number</th>\n",
       "      <th>Source 1 - Region</th>\n",
       "      <th>Source 1 - City</th>\n",
       "      <th>Source 1 - Country</th>\n",
       "      <th>Source 3 - Website</th>\n",
       "      <th>Source 3 - Activity</th>\n",
       "      <th>Source 2 - Activity</th>\n",
       "      <th>Source 2 - Website</th>\n",
       "      <th>Source 2 - Country</th>\n",
       "      <th>...</th>\n",
       "      <th>Source 2 - Phone</th>\n",
       "      <th>Source 3 - Country</th>\n",
       "      <th>Source 3 - Region</th>\n",
       "      <th>Source 3 - City</th>\n",
       "      <th>Source 3 - Phone</th>\n",
       "      <th>Source 4 - Activity</th>\n",
       "      <th>Unnamed: 18</th>\n",
       "      <th>Source 5 - Activity</th>\n",
       "      <th>Unnamed: 20</th>\n",
       "      <th>Source 6 - Activity</th>\n",
       "    </tr>\n",
       "  </thead>\n",
       "  <tbody>\n",
       "    <tr>\n",
       "      <th>0</th>\n",
       "      <td>32 BLUE SPRINGS RD NORTH YORK ON M6L2T3 CA</td>\n",
       "      <td>4168582406</td>\n",
       "      <td>on</td>\n",
       "      <td>north york</td>\n",
       "      <td>canada</td>\n",
       "      <td>safeelectricalsolutions.ca</td>\n",
       "      <td>Electrical &amp; Wiring Contractors</td>\n",
       "      <td>Energy - Equipment &amp; Supplies</td>\n",
       "      <td>safeelectricalsolutions.ca</td>\n",
       "      <td>NaN</td>\n",
       "      <td>...</td>\n",
       "      <td>19057859000</td>\n",
       "      <td>canada</td>\n",
       "      <td>ontario</td>\n",
       "      <td>scarborough</td>\n",
       "      <td>1.416237e+10</td>\n",
       "      <td>Electrical &amp; Wiring Contractors</td>\n",
       "      <td>NaN</td>\n",
       "      <td>NaN</td>\n",
       "      <td>NaN</td>\n",
       "      <td>Electric utility company</td>\n",
       "    </tr>\n",
       "    <tr>\n",
       "      <th>1</th>\n",
       "      <td>ON CA</td>\n",
       "      <td>0</td>\n",
       "      <td>on</td>\n",
       "      <td>NaN</td>\n",
       "      <td>canada</td>\n",
       "      <td>auto-master.com</td>\n",
       "      <td>NaN</td>\n",
       "      <td>NaN</td>\n",
       "      <td>NaN</td>\n",
       "      <td>NaN</td>\n",
       "      <td>...</td>\n",
       "      <td>NaN</td>\n",
       "      <td>united states</td>\n",
       "      <td>texas</td>\n",
       "      <td>houston</td>\n",
       "      <td>1.855993e+10</td>\n",
       "      <td>NaN</td>\n",
       "      <td>NaN</td>\n",
       "      <td>NaN</td>\n",
       "      <td>NaN</td>\n",
       "      <td>NaN</td>\n",
       "    </tr>\n",
       "    <tr>\n",
       "      <th>2</th>\n",
       "      <td>ON CA</td>\n",
       "      <td>0</td>\n",
       "      <td>on</td>\n",
       "      <td>NaN</td>\n",
       "      <td>canada</td>\n",
       "      <td>NaN</td>\n",
       "      <td>Bakeries &amp; Desserts</td>\n",
       "      <td>NaN</td>\n",
       "      <td>NaN</td>\n",
       "      <td>NaN</td>\n",
       "      <td>...</td>\n",
       "      <td>NaN</td>\n",
       "      <td>NaN</td>\n",
       "      <td>NaN</td>\n",
       "      <td>NaN</td>\n",
       "      <td>NaN</td>\n",
       "      <td>Vintage Clothing Store</td>\n",
       "      <td>NaN</td>\n",
       "      <td>Bakeries &amp; Desserts</td>\n",
       "      <td>NaN</td>\n",
       "      <td>NaN</td>\n",
       "    </tr>\n",
       "  </tbody>\n",
       "</table>\n",
       "<p>3 rows × 22 columns</p>\n",
       "</div>"
      ],
      "text/plain": [
       "                      Source 1 - full address  Source 1 - phone number  \\\n",
       "0  32 BLUE SPRINGS RD NORTH YORK ON M6L2T3 CA               4168582406   \n",
       "1                                       ON CA                        0   \n",
       "2                                       ON CA                        0   \n",
       "\n",
       "  Source 1 - Region Source 1 - City Source 1 - Country  \\\n",
       "0                on      north york             canada   \n",
       "1                on             NaN             canada   \n",
       "2                on             NaN             canada   \n",
       "\n",
       "           Source 3 - Website              Source 3 - Activity  \\\n",
       "0  safeelectricalsolutions.ca  Electrical & Wiring Contractors   \n",
       "1             auto-master.com                              NaN   \n",
       "2                         NaN              Bakeries & Desserts   \n",
       "\n",
       "             Source 2 - Activity          Source 2 - Website  \\\n",
       "0  Energy - Equipment & Supplies  safeelectricalsolutions.ca   \n",
       "1                            NaN                         NaN   \n",
       "2                            NaN                         NaN   \n",
       "\n",
       "  Source 2 - Country  ... Source 2 - Phone Source 3 - Country  \\\n",
       "0                NaN  ...      19057859000             canada   \n",
       "1                NaN  ...              NaN      united states   \n",
       "2                NaN  ...              NaN                NaN   \n",
       "\n",
       "  Source 3 - Region Source 3 - City Source 3 - Phone  \\\n",
       "0           ontario     scarborough     1.416237e+10   \n",
       "1             texas         houston     1.855993e+10   \n",
       "2               NaN             NaN              NaN   \n",
       "\n",
       "               Source 4 - Activity  Unnamed: 18  Source 5 - Activity  \\\n",
       "0  Electrical & Wiring Contractors          NaN                  NaN   \n",
       "1                              NaN          NaN                  NaN   \n",
       "2           Vintage Clothing Store          NaN  Bakeries & Desserts   \n",
       "\n",
       "   Unnamed: 20       Source 6 - Activity  \n",
       "0          NaN  Electric utility company  \n",
       "1          NaN                       NaN  \n",
       "2          NaN                       NaN  \n",
       "\n",
       "[3 rows x 22 columns]"
      ]
     },
     "execution_count": 20,
     "metadata": {},
     "output_type": "execute_result"
    }
   ],
   "source": [
    "data = pd.read_csv('../data/Test-data-analyst-soleadify.csv', delimiter=',')\n",
    "data.head()"
   ]
  },
  {
   "cell_type": "markdown",
   "metadata": {},
   "source": [
    "#### Check data"
   ]
  },
  {
   "cell_type": "code",
   "execution_count": 21,
   "metadata": {},
   "outputs": [
    {
     "name": "stdout",
     "output_type": "stream",
     "text": [
      "<class 'pandas.core.frame.DataFrame'>\n",
      "RangeIndex: 34706 entries, 0 to 34705\n",
      "Data columns (total 22 columns):\n",
      " #   Column                   Non-Null Count  Dtype  \n",
      "---  ------                   --------------  -----  \n",
      " 0   Source 1 - full address  34705 non-null  object \n",
      " 1   Source 1 - phone number  34706 non-null  int64  \n",
      " 2   Source 1 - Region        30717 non-null  object \n",
      " 3   Source 1 - City          30284 non-null  object \n",
      " 4   Source 1 - Country       34706 non-null  object \n",
      " 5   Source 3 - Website       29169 non-null  object \n",
      " 6   Source 3 - Activity      29287 non-null  object \n",
      " 7   Source 2 - Activity      16320 non-null  object \n",
      " 8   Source 2 - Website       18986 non-null  object \n",
      " 9   Source 2 - Country       15564 non-null  object \n",
      " 10  Source 2 - Region        15564 non-null  object \n",
      " 11  Source 2 - City          15564 non-null  object \n",
      " 12  Source 2 - Phone         18433 non-null  object \n",
      " 13  Source 3 - Country       22952 non-null  object \n",
      " 14  Source 3 - Region        21046 non-null  object \n",
      " 15  Source 3 - City          21048 non-null  object \n",
      " 16  Source 3 - Phone         23773 non-null  float64\n",
      " 17  Source 4 - Activity      17095 non-null  object \n",
      " 18  Unnamed: 18              0 non-null      float64\n",
      " 19  Source 5 - Activity      15251 non-null  object \n",
      " 20  Unnamed: 20              0 non-null      float64\n",
      " 21  Source 6 - Activity      17324 non-null  object \n",
      "dtypes: float64(3), int64(1), object(18)\n",
      "memory usage: 5.8+ MB\n"
     ]
    }
   ],
   "source": [
    "data.info()"
   ]
  },
  {
   "cell_type": "markdown",
   "metadata": {},
   "source": [
    "#### Make sure that everything is labeled correctly "
   ]
  },
  {
   "cell_type": "code",
   "execution_count": 22,
   "metadata": {},
   "outputs": [
    {
     "data": {
      "text/plain": [
       "Index(['Source 1 - full address', 'Source 1 - phone number',\n",
       "       'Source 1 - Region', 'Source 1 - City', 'Source 1 - Country',\n",
       "       'Source 3 - Website', 'Source 3 - Activity', 'Source 2 - Activity',\n",
       "       'Source 2 - Website', 'Source 2 - Country', 'Source 2 - Region',\n",
       "       'Source 2 - City', 'Source 2 - Phone', 'Source 3 - Country',\n",
       "       'Source 3 - Region', 'Source 3 - City', 'Source 3 - Phone',\n",
       "       'Source 4 - Activity', 'Unnamed: 18', 'Source 5 - Activity',\n",
       "       'Unnamed: 20', 'Source 6 - Activity'],\n",
       "      dtype='object')"
      ]
     },
     "execution_count": 22,
     "metadata": {},
     "output_type": "execute_result"
    }
   ],
   "source": [
    "data.columns "
   ]
  },
  {
   "cell_type": "markdown",
   "metadata": {},
   "source": [
    "#### Remove unnecessary data \n",
    "\n",
    "Two columns seem to have no name, and after checking the CSV files it seems that they are empty columns so we can safely remove them."
   ]
  },
  {
   "cell_type": "code",
   "execution_count": 26,
   "metadata": {},
   "outputs": [],
   "source": [
    "data.drop(['Unnamed: 18', 'Unnamed: 20'], axis=1, inplace=True)"
   ]
  },
  {
   "cell_type": "markdown",
   "metadata": {},
   "source": [
    "Also the 'Source 6' seems to only have the 'businnes activity' and no other info, so I will remove that as well."
   ]
  },
  {
   "cell_type": "code",
   "execution_count": 30,
   "metadata": {},
   "outputs": [],
   "source": [
    "data.drop(['Source 6 - Activity'], axis=1, inplace=True)"
   ]
  },
  {
   "cell_type": "code",
   "execution_count": 32,
   "metadata": {},
   "outputs": [
    {
     "data": {
      "text/html": [
       "<div>\n",
       "<style scoped>\n",
       "    .dataframe tbody tr th:only-of-type {\n",
       "        vertical-align: middle;\n",
       "    }\n",
       "\n",
       "    .dataframe tbody tr th {\n",
       "        vertical-align: top;\n",
       "    }\n",
       "\n",
       "    .dataframe thead th {\n",
       "        text-align: right;\n",
       "    }\n",
       "</style>\n",
       "<table border=\"1\" class=\"dataframe\">\n",
       "  <thead>\n",
       "    <tr style=\"text-align: right;\">\n",
       "      <th></th>\n",
       "      <th>Source 1 - full address</th>\n",
       "      <th>Source 1 - phone number</th>\n",
       "      <th>Source 1 - Region</th>\n",
       "      <th>Source 1 - City</th>\n",
       "      <th>Source 1 - Country</th>\n",
       "      <th>Source 3 - Website</th>\n",
       "      <th>Source 3 - Activity</th>\n",
       "      <th>Source 2 - Activity</th>\n",
       "      <th>Source 2 - Website</th>\n",
       "      <th>Source 2 - Country</th>\n",
       "      <th>Source 2 - Region</th>\n",
       "      <th>Source 2 - City</th>\n",
       "      <th>Source 2 - Phone</th>\n",
       "      <th>Source 3 - Country</th>\n",
       "      <th>Source 3 - Region</th>\n",
       "      <th>Source 3 - City</th>\n",
       "      <th>Source 3 - Phone</th>\n",
       "      <th>Source 4 - Activity</th>\n",
       "      <th>Source 5 - Activity</th>\n",
       "    </tr>\n",
       "  </thead>\n",
       "  <tbody>\n",
       "    <tr>\n",
       "      <th>0</th>\n",
       "      <td>32 BLUE SPRINGS RD NORTH YORK ON M6L2T3 CA</td>\n",
       "      <td>4168582406</td>\n",
       "      <td>on</td>\n",
       "      <td>north york</td>\n",
       "      <td>canada</td>\n",
       "      <td>safeelectricalsolutions.ca</td>\n",
       "      <td>Electrical &amp; Wiring Contractors</td>\n",
       "      <td>Energy - Equipment &amp; Supplies</td>\n",
       "      <td>safeelectricalsolutions.ca</td>\n",
       "      <td>NaN</td>\n",
       "      <td>NaN</td>\n",
       "      <td>NaN</td>\n",
       "      <td>19057859000</td>\n",
       "      <td>canada</td>\n",
       "      <td>ontario</td>\n",
       "      <td>scarborough</td>\n",
       "      <td>1.416237e+10</td>\n",
       "      <td>Electrical &amp; Wiring Contractors</td>\n",
       "      <td>NaN</td>\n",
       "    </tr>\n",
       "    <tr>\n",
       "      <th>1</th>\n",
       "      <td>ON CA</td>\n",
       "      <td>0</td>\n",
       "      <td>on</td>\n",
       "      <td>NaN</td>\n",
       "      <td>canada</td>\n",
       "      <td>auto-master.com</td>\n",
       "      <td>NaN</td>\n",
       "      <td>NaN</td>\n",
       "      <td>NaN</td>\n",
       "      <td>NaN</td>\n",
       "      <td>NaN</td>\n",
       "      <td>NaN</td>\n",
       "      <td>NaN</td>\n",
       "      <td>united states</td>\n",
       "      <td>texas</td>\n",
       "      <td>houston</td>\n",
       "      <td>1.855993e+10</td>\n",
       "      <td>NaN</td>\n",
       "      <td>NaN</td>\n",
       "    </tr>\n",
       "    <tr>\n",
       "      <th>2</th>\n",
       "      <td>ON CA</td>\n",
       "      <td>0</td>\n",
       "      <td>on</td>\n",
       "      <td>NaN</td>\n",
       "      <td>canada</td>\n",
       "      <td>NaN</td>\n",
       "      <td>Bakeries &amp; Desserts</td>\n",
       "      <td>NaN</td>\n",
       "      <td>NaN</td>\n",
       "      <td>NaN</td>\n",
       "      <td>NaN</td>\n",
       "      <td>NaN</td>\n",
       "      <td>NaN</td>\n",
       "      <td>NaN</td>\n",
       "      <td>NaN</td>\n",
       "      <td>NaN</td>\n",
       "      <td>NaN</td>\n",
       "      <td>Vintage Clothing Store</td>\n",
       "      <td>Bakeries &amp; Desserts</td>\n",
       "    </tr>\n",
       "    <tr>\n",
       "      <th>3</th>\n",
       "      <td>2000 TALBOT RD WINDSOR ON N9A6S4 CA</td>\n",
       "      <td>0</td>\n",
       "      <td>on</td>\n",
       "      <td>windsor</td>\n",
       "      <td>canada</td>\n",
       "      <td>stclaircollege.ca</td>\n",
       "      <td>NaN</td>\n",
       "      <td>NaN</td>\n",
       "      <td>stclaircollege.ca</td>\n",
       "      <td>canada</td>\n",
       "      <td>ontario</td>\n",
       "      <td>windsor</td>\n",
       "      <td>+15199722727,+15199722739,+15199661656</td>\n",
       "      <td>canada</td>\n",
       "      <td>ontario</td>\n",
       "      <td>windsor</td>\n",
       "      <td>1.519972e+10</td>\n",
       "      <td>NaN</td>\n",
       "      <td>NaN</td>\n",
       "    </tr>\n",
       "    <tr>\n",
       "      <th>4</th>\n",
       "      <td>5117 52 ST WABAMUN AB T0E2K0 CA</td>\n",
       "      <td>9059653927</td>\n",
       "      <td>ab</td>\n",
       "      <td>wabamun</td>\n",
       "      <td>canada</td>\n",
       "      <td>NaN</td>\n",
       "      <td>Oil &amp; Gas - Extraction &amp; Distribution</td>\n",
       "      <td>NaN</td>\n",
       "      <td>NaN</td>\n",
       "      <td>NaN</td>\n",
       "      <td>NaN</td>\n",
       "      <td>NaN</td>\n",
       "      <td>NaN</td>\n",
       "      <td>NaN</td>\n",
       "      <td>NaN</td>\n",
       "      <td>NaN</td>\n",
       "      <td>NaN</td>\n",
       "      <td>NaN</td>\n",
       "      <td>NaN</td>\n",
       "    </tr>\n",
       "  </tbody>\n",
       "</table>\n",
       "</div>"
      ],
      "text/plain": [
       "                      Source 1 - full address  Source 1 - phone number  \\\n",
       "0  32 BLUE SPRINGS RD NORTH YORK ON M6L2T3 CA               4168582406   \n",
       "1                                       ON CA                        0   \n",
       "2                                       ON CA                        0   \n",
       "3         2000 TALBOT RD WINDSOR ON N9A6S4 CA                        0   \n",
       "4             5117 52 ST WABAMUN AB T0E2K0 CA               9059653927   \n",
       "\n",
       "  Source 1 - Region Source 1 - City Source 1 - Country  \\\n",
       "0                on      north york             canada   \n",
       "1                on             NaN             canada   \n",
       "2                on             NaN             canada   \n",
       "3                on         windsor             canada   \n",
       "4                ab         wabamun             canada   \n",
       "\n",
       "           Source 3 - Website                    Source 3 - Activity  \\\n",
       "0  safeelectricalsolutions.ca        Electrical & Wiring Contractors   \n",
       "1             auto-master.com                                    NaN   \n",
       "2                         NaN                    Bakeries & Desserts   \n",
       "3           stclaircollege.ca                                    NaN   \n",
       "4                         NaN  Oil & Gas - Extraction & Distribution   \n",
       "\n",
       "             Source 2 - Activity          Source 2 - Website  \\\n",
       "0  Energy - Equipment & Supplies  safeelectricalsolutions.ca   \n",
       "1                            NaN                         NaN   \n",
       "2                            NaN                         NaN   \n",
       "3                            NaN           stclaircollege.ca   \n",
       "4                            NaN                         NaN   \n",
       "\n",
       "  Source 2 - Country Source 2 - Region Source 2 - City  \\\n",
       "0                NaN               NaN             NaN   \n",
       "1                NaN               NaN             NaN   \n",
       "2                NaN               NaN             NaN   \n",
       "3             canada           ontario         windsor   \n",
       "4                NaN               NaN             NaN   \n",
       "\n",
       "                         Source 2 - Phone Source 3 - Country  \\\n",
       "0                             19057859000             canada   \n",
       "1                                     NaN      united states   \n",
       "2                                     NaN                NaN   \n",
       "3  +15199722727,+15199722739,+15199661656             canada   \n",
       "4                                     NaN                NaN   \n",
       "\n",
       "  Source 3 - Region Source 3 - City  Source 3 - Phone  \\\n",
       "0           ontario     scarborough      1.416237e+10   \n",
       "1             texas         houston      1.855993e+10   \n",
       "2               NaN             NaN               NaN   \n",
       "3           ontario         windsor      1.519972e+10   \n",
       "4               NaN             NaN               NaN   \n",
       "\n",
       "               Source 4 - Activity  Source 5 - Activity  \n",
       "0  Electrical & Wiring Contractors                  NaN  \n",
       "1                              NaN                  NaN  \n",
       "2           Vintage Clothing Store  Bakeries & Desserts  \n",
       "3                              NaN                  NaN  \n",
       "4                              NaN                  NaN  "
      ]
     },
     "execution_count": 32,
     "metadata": {},
     "output_type": "execute_result"
    }
   ],
   "source": [
    "data.head()"
   ]
  },
  {
   "cell_type": "markdown",
   "metadata": {},
   "source": [
    "#### Check for unique values "
   ]
  },
  {
   "cell_type": "code",
   "execution_count": 24,
   "metadata": {},
   "outputs": [
    {
     "data": {
      "text/plain": [
       "Source 1 - full address    27534\n",
       "Source 1 - phone number    11969\n",
       "Source 1 - Region             32\n",
       "Source 1 - City             2682\n",
       "Source 1 - Country             1\n",
       "Source 3 - Website         23848\n",
       "Source 3 - Activity          550\n",
       "Source 2 - Activity          388\n",
       "Source 2 - Website         14872\n",
       "Source 2 - Country             1\n",
       "Source 2 - Region             15\n",
       "Source 2 - City             1083\n",
       "Source 2 - Phone           15046\n",
       "Source 3 - Country            81\n",
       "Source 3 - Region            245\n",
       "Source 3 - City             2082\n",
       "Source 3 - Phone           18923\n",
       "Source 4 - Activity          341\n",
       "Unnamed: 18                    0\n",
       "Source 5 - Activity          539\n",
       "Unnamed: 20                    0\n",
       "Source 6 - Activity         1650\n",
       "dtype: int64"
      ]
     },
     "execution_count": 24,
     "metadata": {},
     "output_type": "execute_result"
    }
   ],
   "source": [
    "data.nunique()"
   ]
  },
  {
   "cell_type": "markdown",
   "metadata": {},
   "source": [
    "#### Match names withing the columns\n",
    "\n",
    "For the 'Source 3 - Country' column it seems like the same country is spelled differently multiple times, so we need to match them "
   ]
  },
  {
   "cell_type": "code",
   "execution_count": null,
   "metadata": {},
   "outputs": [],
   "source": []
  },
  {
   "cell_type": "markdown",
   "metadata": {},
   "source": [
    "### Check for null values"
   ]
  },
  {
   "cell_type": "code",
   "execution_count": 25,
   "metadata": {},
   "outputs": [
    {
     "data": {
      "text/plain": [
       "Source 1 - full address        1\n",
       "Source 1 - phone number        0\n",
       "Source 1 - Region           3989\n",
       "Source 1 - City             4422\n",
       "Source 1 - Country             0\n",
       "Source 3 - Website          5537\n",
       "Source 3 - Activity         5419\n",
       "Source 2 - Activity        18386\n",
       "Source 2 - Website         15720\n",
       "Source 2 - Country         19142\n",
       "Source 2 - Region          19142\n",
       "Source 2 - City            19142\n",
       "Source 2 - Phone           16273\n",
       "Source 3 - Country         11754\n",
       "Source 3 - Region          13660\n",
       "Source 3 - City            13658\n",
       "Source 3 - Phone           10933\n",
       "Source 4 - Activity        17611\n",
       "Unnamed: 18                34706\n",
       "Source 5 - Activity        19455\n",
       "Unnamed: 20                34706\n",
       "Source 6 - Activity        17382\n",
       "dtype: int64"
      ]
     },
     "execution_count": 25,
     "metadata": {},
     "output_type": "execute_result"
    }
   ],
   "source": [
    "data.isnull().sum()"
   ]
  },
  {
   "cell_type": "markdown",
   "metadata": {},
   "source": [
    "### Handle null values"
   ]
  },
  {
   "cell_type": "markdown",
   "metadata": {},
   "source": [
    "## Checking the best possible values \n",
    "\n",
    "### What make a value the best possible "
   ]
  }
 ],
 "metadata": {
  "kernelspec": {
   "display_name": ".venv",
   "language": "python",
   "name": "python3"
  },
  "language_info": {
   "codemirror_mode": {
    "name": "ipython",
    "version": 3
   },
   "file_extension": ".py",
   "mimetype": "text/x-python",
   "name": "python",
   "nbconvert_exporter": "python",
   "pygments_lexer": "ipython3",
   "version": "3.11.5"
  }
 },
 "nbformat": 4,
 "nbformat_minor": 2
}
