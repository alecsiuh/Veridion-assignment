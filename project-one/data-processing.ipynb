{
 "cells": [
  {
   "cell_type": "markdown",
   "metadata": {},
   "source": [
    "# Data Processing"
   ]
  },
  {
   "cell_type": "markdown",
   "metadata": {},
   "source": [
    "## Imports"
   ]
  },
  {
   "cell_type": "code",
   "execution_count": 46,
   "metadata": {},
   "outputs": [],
   "source": [
    "import pandas as pd\n",
    "import numpy as np"
   ]
  },
  {
   "cell_type": "markdown",
   "metadata": {},
   "source": [
    "## Read the CSV file"
   ]
  },
  {
   "cell_type": "code",
   "execution_count": 47,
   "metadata": {},
   "outputs": [
    {
     "data": {
      "text/html": [
       "<div>\n",
       "<style scoped>\n",
       "    .dataframe tbody tr th:only-of-type {\n",
       "        vertical-align: middle;\n",
       "    }\n",
       "\n",
       "    .dataframe tbody tr th {\n",
       "        vertical-align: top;\n",
       "    }\n",
       "\n",
       "    .dataframe thead th {\n",
       "        text-align: right;\n",
       "    }\n",
       "</style>\n",
       "<table border=\"1\" class=\"dataframe\">\n",
       "  <thead>\n",
       "    <tr style=\"text-align: right;\">\n",
       "      <th></th>\n",
       "      <th>Source 1 - full address</th>\n",
       "      <th>Source 1 - phone number</th>\n",
       "      <th>Source 1 - Region</th>\n",
       "      <th>Source 1 - City</th>\n",
       "      <th>Source 1 - Country</th>\n",
       "      <th>Source 3 - Website</th>\n",
       "      <th>Source 3 - Activity</th>\n",
       "      <th>Source 2 - Activity</th>\n",
       "      <th>Source 2 - Website</th>\n",
       "      <th>Source 2 - Country</th>\n",
       "      <th>...</th>\n",
       "      <th>Source 2 - Phone</th>\n",
       "      <th>Source 3 - Country</th>\n",
       "      <th>Source 3 - Region</th>\n",
       "      <th>Source 3 - City</th>\n",
       "      <th>Source 3 - Phone</th>\n",
       "      <th>Source 4 - Activity</th>\n",
       "      <th>Unnamed: 18</th>\n",
       "      <th>Source 5 - Activity</th>\n",
       "      <th>Unnamed: 20</th>\n",
       "      <th>Source 6 - Activity</th>\n",
       "    </tr>\n",
       "  </thead>\n",
       "  <tbody>\n",
       "    <tr>\n",
       "      <th>0</th>\n",
       "      <td>32 BLUE SPRINGS RD NORTH YORK ON M6L2T3 CA</td>\n",
       "      <td>4168582406</td>\n",
       "      <td>on</td>\n",
       "      <td>north york</td>\n",
       "      <td>canada</td>\n",
       "      <td>safeelectricalsolutions.ca</td>\n",
       "      <td>Electrical &amp; Wiring Contractors</td>\n",
       "      <td>Energy - Equipment &amp; Supplies</td>\n",
       "      <td>safeelectricalsolutions.ca</td>\n",
       "      <td>NaN</td>\n",
       "      <td>...</td>\n",
       "      <td>19057859000</td>\n",
       "      <td>canada</td>\n",
       "      <td>ontario</td>\n",
       "      <td>scarborough</td>\n",
       "      <td>1.416237e+10</td>\n",
       "      <td>Electrical &amp; Wiring Contractors</td>\n",
       "      <td>NaN</td>\n",
       "      <td>NaN</td>\n",
       "      <td>NaN</td>\n",
       "      <td>Electric utility company</td>\n",
       "    </tr>\n",
       "    <tr>\n",
       "      <th>1</th>\n",
       "      <td>ON CA</td>\n",
       "      <td>0</td>\n",
       "      <td>on</td>\n",
       "      <td>NaN</td>\n",
       "      <td>canada</td>\n",
       "      <td>auto-master.com</td>\n",
       "      <td>NaN</td>\n",
       "      <td>NaN</td>\n",
       "      <td>NaN</td>\n",
       "      <td>NaN</td>\n",
       "      <td>...</td>\n",
       "      <td>NaN</td>\n",
       "      <td>united states</td>\n",
       "      <td>texas</td>\n",
       "      <td>houston</td>\n",
       "      <td>1.855993e+10</td>\n",
       "      <td>NaN</td>\n",
       "      <td>NaN</td>\n",
       "      <td>NaN</td>\n",
       "      <td>NaN</td>\n",
       "      <td>NaN</td>\n",
       "    </tr>\n",
       "    <tr>\n",
       "      <th>2</th>\n",
       "      <td>ON CA</td>\n",
       "      <td>0</td>\n",
       "      <td>on</td>\n",
       "      <td>NaN</td>\n",
       "      <td>canada</td>\n",
       "      <td>NaN</td>\n",
       "      <td>Bakeries &amp; Desserts</td>\n",
       "      <td>NaN</td>\n",
       "      <td>NaN</td>\n",
       "      <td>NaN</td>\n",
       "      <td>...</td>\n",
       "      <td>NaN</td>\n",
       "      <td>NaN</td>\n",
       "      <td>NaN</td>\n",
       "      <td>NaN</td>\n",
       "      <td>NaN</td>\n",
       "      <td>Vintage Clothing Store</td>\n",
       "      <td>NaN</td>\n",
       "      <td>Bakeries &amp; Desserts</td>\n",
       "      <td>NaN</td>\n",
       "      <td>NaN</td>\n",
       "    </tr>\n",
       "    <tr>\n",
       "      <th>3</th>\n",
       "      <td>2000 TALBOT RD WINDSOR ON N9A6S4 CA</td>\n",
       "      <td>0</td>\n",
       "      <td>on</td>\n",
       "      <td>windsor</td>\n",
       "      <td>canada</td>\n",
       "      <td>stclaircollege.ca</td>\n",
       "      <td>NaN</td>\n",
       "      <td>NaN</td>\n",
       "      <td>stclaircollege.ca</td>\n",
       "      <td>canada</td>\n",
       "      <td>...</td>\n",
       "      <td>+15199722727,+15199722739,+15199661656</td>\n",
       "      <td>canada</td>\n",
       "      <td>ontario</td>\n",
       "      <td>windsor</td>\n",
       "      <td>1.519972e+10</td>\n",
       "      <td>NaN</td>\n",
       "      <td>NaN</td>\n",
       "      <td>NaN</td>\n",
       "      <td>NaN</td>\n",
       "      <td>NaN</td>\n",
       "    </tr>\n",
       "    <tr>\n",
       "      <th>4</th>\n",
       "      <td>5117 52 ST WABAMUN AB T0E2K0 CA</td>\n",
       "      <td>9059653927</td>\n",
       "      <td>ab</td>\n",
       "      <td>wabamun</td>\n",
       "      <td>canada</td>\n",
       "      <td>NaN</td>\n",
       "      <td>Oil &amp; Gas - Extraction &amp; Distribution</td>\n",
       "      <td>NaN</td>\n",
       "      <td>NaN</td>\n",
       "      <td>NaN</td>\n",
       "      <td>...</td>\n",
       "      <td>NaN</td>\n",
       "      <td>NaN</td>\n",
       "      <td>NaN</td>\n",
       "      <td>NaN</td>\n",
       "      <td>NaN</td>\n",
       "      <td>NaN</td>\n",
       "      <td>NaN</td>\n",
       "      <td>NaN</td>\n",
       "      <td>NaN</td>\n",
       "      <td>NaN</td>\n",
       "    </tr>\n",
       "  </tbody>\n",
       "</table>\n",
       "<p>5 rows × 22 columns</p>\n",
       "</div>"
      ],
      "text/plain": [
       "                      Source 1 - full address  Source 1 - phone number  \\\n",
       "0  32 BLUE SPRINGS RD NORTH YORK ON M6L2T3 CA               4168582406   \n",
       "1                                       ON CA                        0   \n",
       "2                                       ON CA                        0   \n",
       "3         2000 TALBOT RD WINDSOR ON N9A6S4 CA                        0   \n",
       "4             5117 52 ST WABAMUN AB T0E2K0 CA               9059653927   \n",
       "\n",
       "  Source 1 - Region Source 1 - City Source 1 - Country  \\\n",
       "0                on      north york             canada   \n",
       "1                on             NaN             canada   \n",
       "2                on             NaN             canada   \n",
       "3                on         windsor             canada   \n",
       "4                ab         wabamun             canada   \n",
       "\n",
       "           Source 3 - Website                    Source 3 - Activity  \\\n",
       "0  safeelectricalsolutions.ca        Electrical & Wiring Contractors   \n",
       "1             auto-master.com                                    NaN   \n",
       "2                         NaN                    Bakeries & Desserts   \n",
       "3           stclaircollege.ca                                    NaN   \n",
       "4                         NaN  Oil & Gas - Extraction & Distribution   \n",
       "\n",
       "             Source 2 - Activity          Source 2 - Website  \\\n",
       "0  Energy - Equipment & Supplies  safeelectricalsolutions.ca   \n",
       "1                            NaN                         NaN   \n",
       "2                            NaN                         NaN   \n",
       "3                            NaN           stclaircollege.ca   \n",
       "4                            NaN                         NaN   \n",
       "\n",
       "  Source 2 - Country  ...                        Source 2 - Phone  \\\n",
       "0                NaN  ...                             19057859000   \n",
       "1                NaN  ...                                     NaN   \n",
       "2                NaN  ...                                     NaN   \n",
       "3             canada  ...  +15199722727,+15199722739,+15199661656   \n",
       "4                NaN  ...                                     NaN   \n",
       "\n",
       "  Source 3 - Country Source 3 - Region Source 3 - City Source 3 - Phone  \\\n",
       "0             canada           ontario     scarborough     1.416237e+10   \n",
       "1      united states             texas         houston     1.855993e+10   \n",
       "2                NaN               NaN             NaN              NaN   \n",
       "3             canada           ontario         windsor     1.519972e+10   \n",
       "4                NaN               NaN             NaN              NaN   \n",
       "\n",
       "               Source 4 - Activity  Unnamed: 18  Source 5 - Activity  \\\n",
       "0  Electrical & Wiring Contractors          NaN                  NaN   \n",
       "1                              NaN          NaN                  NaN   \n",
       "2           Vintage Clothing Store          NaN  Bakeries & Desserts   \n",
       "3                              NaN          NaN                  NaN   \n",
       "4                              NaN          NaN                  NaN   \n",
       "\n",
       "   Unnamed: 20       Source 6 - Activity  \n",
       "0          NaN  Electric utility company  \n",
       "1          NaN                       NaN  \n",
       "2          NaN                       NaN  \n",
       "3          NaN                       NaN  \n",
       "4          NaN                       NaN  \n",
       "\n",
       "[5 rows x 22 columns]"
      ]
     },
     "execution_count": 47,
     "metadata": {},
     "output_type": "execute_result"
    }
   ],
   "source": [
    "data = pd.read_csv('../resources/Test-data-analyst-soleadify.csv', delimiter=',')\n",
    "data.head()"
   ]
  },
  {
   "cell_type": "markdown",
   "metadata": {},
   "source": [
    "## Check data"
   ]
  },
  {
   "cell_type": "code",
   "execution_count": 48,
   "metadata": {},
   "outputs": [
    {
     "name": "stdout",
     "output_type": "stream",
     "text": [
      "<class 'pandas.core.frame.DataFrame'>\n",
      "RangeIndex: 34706 entries, 0 to 34705\n",
      "Data columns (total 22 columns):\n",
      " #   Column                   Non-Null Count  Dtype  \n",
      "---  ------                   --------------  -----  \n",
      " 0   Source 1 - full address  34705 non-null  object \n",
      " 1   Source 1 - phone number  34706 non-null  int64  \n",
      " 2   Source 1 - Region        30717 non-null  object \n",
      " 3   Source 1 - City          30284 non-null  object \n",
      " 4   Source 1 - Country       34706 non-null  object \n",
      " 5   Source 3 - Website       29169 non-null  object \n",
      " 6   Source 3 - Activity      29287 non-null  object \n",
      " 7   Source 2 - Activity      16320 non-null  object \n",
      " 8   Source 2 - Website       18986 non-null  object \n",
      " 9   Source 2 - Country       15564 non-null  object \n",
      " 10  Source 2 - Region        15564 non-null  object \n",
      " 11  Source 2 - City          15564 non-null  object \n",
      " 12  Source 2 - Phone         18433 non-null  object \n",
      " 13  Source 3 - Country       22952 non-null  object \n",
      " 14  Source 3 - Region        21046 non-null  object \n",
      " 15  Source 3 - City          21048 non-null  object \n",
      " 16  Source 3 - Phone         23773 non-null  float64\n",
      " 17  Source 4 - Activity      17095 non-null  object \n",
      " 18  Unnamed: 18              0 non-null      float64\n",
      " 19  Source 5 - Activity      15251 non-null  object \n",
      " 20  Unnamed: 20              0 non-null      float64\n",
      " 21  Source 6 - Activity      17324 non-null  object \n",
      "dtypes: float64(3), int64(1), object(18)\n",
      "memory usage: 5.8+ MB\n"
     ]
    }
   ],
   "source": [
    "data.info()"
   ]
  },
  {
   "cell_type": "markdown",
   "metadata": {},
   "source": [
    "### Remove unnecessary data \n",
    "\n",
    "Two columns seem to have no name, and after checking the CSV files it seems that they are empty columns so we can safely remove them."
   ]
  },
  {
   "cell_type": "code",
   "execution_count": 49,
   "metadata": {},
   "outputs": [],
   "source": [
    "data.drop(['Unnamed: 18', 'Unnamed: 20'], axis=1, inplace=True)"
   ]
  },
  {
   "cell_type": "markdown",
   "metadata": {},
   "source": [
    "### Check the URLs\n",
    "\n",
    "The most important values from this df are the URLs. I will check which column has the least amount of missing data. In the case that there is no values in the column with the most URLs we will replace the value with the one from the other column. If there is missing data in both the columns, I will romeve the row."
   ]
  },
  {
   "cell_type": "code",
   "execution_count": 50,
   "metadata": {},
   "outputs": [
    {
     "name": "stdout",
     "output_type": "stream",
     "text": [
      "15720\n",
      "5537\n"
     ]
    }
   ],
   "source": [
    "print(data['Source 2 - Website'].isnull().sum())\n",
    "print(data['Source 3 - Website'].isnull().sum())"
   ]
  },
  {
   "cell_type": "markdown",
   "metadata": {},
   "source": [
    "#### Remove the rows where both the URLs are missing"
   ]
  },
  {
   "cell_type": "code",
   "execution_count": 51,
   "metadata": {},
   "outputs": [
    {
     "name": "stdout",
     "output_type": "stream",
     "text": [
      "10451\n",
      "268\n"
     ]
    }
   ],
   "source": [
    "data.dropna(subset=['Source 2 - Website', 'Source 3 - Website'], how='all', inplace=True)\n",
    "\n",
    "print(data['Source 2 - Website'].isnull().sum())\n",
    "print(data['Source 3 - Website'].isnull().sum())"
   ]
  },
  {
   "cell_type": "markdown",
   "metadata": {},
   "source": [
    "#### If the value of the Source 3 is null, replace it with the data from the Source 2"
   ]
  },
  {
   "cell_type": "code",
   "execution_count": 52,
   "metadata": {},
   "outputs": [
    {
     "name": "stdout",
     "output_type": "stream",
     "text": [
      "0\n"
     ]
    },
    {
     "name": "stderr",
     "output_type": "stream",
     "text": [
      "C:\\Users\\bogda\\AppData\\Local\\Temp\\ipykernel_41296\\981115767.py:1: FutureWarning: A value is trying to be set on a copy of a DataFrame or Series through chained assignment using an inplace method.\n",
      "The behavior will change in pandas 3.0. This inplace method will never work because the intermediate object on which we are setting values always behaves as a copy.\n",
      "\n",
      "For example, when doing 'df[col].method(value, inplace=True)', try using 'df.method({col: value}, inplace=True)' or df[col] = df[col].method(value) instead, to perform the operation inplace on the original object.\n",
      "\n",
      "\n",
      "  data['Source 3 - Website'].fillna(data['Source 2 - Website'], inplace=True)\n"
     ]
    }
   ],
   "source": [
    "data['Source 3 - Website'].fillna(data['Source 2 - Website'], inplace=True)\n",
    "print(data['Source 3 - Website'].isnull().sum())\n",
    "\n",
    "data.drop(['Source 2 - Website'], axis=1, inplace=True) # drop column Source 2 - Website column since it's no longer needed"
   ]
  },
  {
   "cell_type": "markdown",
   "metadata": {},
   "source": [
    "### Repeat for the phone numbers "
   ]
  },
  {
   "cell_type": "code",
   "execution_count": 53,
   "metadata": {},
   "outputs": [
    {
     "name": "stdout",
     "output_type": "stream",
     "text": [
      "Source 1 null phone numbers:  0\n",
      "Source 2 null phone numbers:  11004\n",
      "Source 3 null phone numbers:  5664\n"
     ]
    }
   ],
   "source": [
    "print('Source 1 null phone numbers: ', data['Source 1 - phone number'].isnull().sum())\n",
    "print('Source 2 null phone numbers: ',data['Source 2 - Phone'].isnull().sum())\n",
    "print('Source 3 null phone numbers: ',data['Source 3 - Phone'].isnull().sum())"
   ]
  },
  {
   "cell_type": "markdown",
   "metadata": {},
   "source": [
    "The 'Source 1 - phone number' column has missing values, but they are represented by '0' instead of 'NaN'. So we will replace the 0 values to get a more accurate view."
   ]
  },
  {
   "cell_type": "code",
   "execution_count": 54,
   "metadata": {},
   "outputs": [],
   "source": [
    "data['Source 1 - phone number'] = data['Source 1 - phone number'].replace(0, np.nan)"
   ]
  },
  {
   "cell_type": "code",
   "execution_count": 55,
   "metadata": {},
   "outputs": [
    {
     "name": "stdout",
     "output_type": "stream",
     "text": [
      "Source 1 null phone numbers:  17840\n",
      "Source 2 null phone numbers:  11004\n",
      "Source 3 null phone numbers:  5664\n"
     ]
    }
   ],
   "source": [
    "print('Source 1 null phone numbers: ', data['Source 1 - phone number'].isnull().sum())\n",
    "print('Source 2 null phone numbers: ',data['Source 2 - Phone'].isnull().sum())\n",
    "print('Source 3 null phone numbers: ',data['Source 3 - Phone'].isnull().sum())"
   ]
  },
  {
   "cell_type": "markdown",
   "metadata": {},
   "source": [
    "Because the phone number is not as important of a entity as the URL, I will not remove the columns that have all missing values, but I will combine the 3 to get a more complete output."
   ]
  },
  {
   "cell_type": "code",
   "execution_count": 56,
   "metadata": {},
   "outputs": [
    {
     "name": "stdout",
     "output_type": "stream",
     "text": [
      "3224\n"
     ]
    },
    {
     "name": "stderr",
     "output_type": "stream",
     "text": [
      "C:\\Users\\bogda\\AppData\\Local\\Temp\\ipykernel_41296\\1870078567.py:1: FutureWarning: A value is trying to be set on a copy of a DataFrame or Series through chained assignment using an inplace method.\n",
      "The behavior will change in pandas 3.0. This inplace method will never work because the intermediate object on which we are setting values always behaves as a copy.\n",
      "\n",
      "For example, when doing 'df[col].method(value, inplace=True)', try using 'df.method({col: value}, inplace=True)' or df[col] = df[col].method(value) instead, to perform the operation inplace on the original object.\n",
      "\n",
      "\n",
      "  data['Source 3 - Phone'].fillna(data['Source 2 - Phone'], inplace=True)\n",
      "C:\\Users\\bogda\\AppData\\Local\\Temp\\ipykernel_41296\\1870078567.py:1: FutureWarning: Setting an item of incompatible dtype is deprecated and will raise an error in a future version of pandas. Value '[nan '+16473512222,+14166440157' nan ... nan '16475886277' '15149278042']' has dtype incompatible with float64, please explicitly cast to a compatible dtype first.\n",
      "  data['Source 3 - Phone'].fillna(data['Source 2 - Phone'], inplace=True)\n"
     ]
    }
   ],
   "source": [
    "data['Source 3 - Phone'].fillna(data['Source 2 - Phone'], inplace=True) \n",
    "print(data['Source 3 - Phone'].isnull().sum())"
   ]
  },
  {
   "cell_type": "code",
   "execution_count": 57,
   "metadata": {},
   "outputs": [
    {
     "name": "stdout",
     "output_type": "stream",
     "text": [
      "1941\n"
     ]
    }
   ],
   "source": [
    "data['Source 3 - Phone'].fillna(data['Source 1 - phone number'], inplace=True) \n",
    "print(data['Source 3 - Phone'].isnull().sum())"
   ]
  },
  {
   "cell_type": "code",
   "execution_count": 58,
   "metadata": {},
   "outputs": [],
   "source": [
    "data.drop(['Source 1 - phone number', 'Source 2 - Phone'], axis=1, inplace=True) # drop column Source 1 - phone number and Source 2 - Phone since it's no longer needed"
   ]
  },
  {
   "cell_type": "markdown",
   "metadata": {},
   "source": [
    "### Repeat for the Business Activity"
   ]
  },
  {
   "cell_type": "code",
   "execution_count": 59,
   "metadata": {},
   "outputs": [
    {
     "name": "stdout",
     "output_type": "stream",
     "text": [
      "Source 2 null activities:  13117\n",
      "Source 3 null activities:  5170\n",
      "Source 4 null activities:  14171\n",
      "Source 5 null activities:  16018\n",
      "Source 6 null activities:  12113\n"
     ]
    }
   ],
   "source": [
    "print('Source 2 null activities: ', data['Source 2 - Activity'].isnull().sum())\n",
    "print('Source 3 null activities: ',data['Source 3 - Activity'].isnull().sum())\n",
    "print('Source 4 null activities: ',data['Source 4 - Activity'].isnull().sum())\n",
    "print('Source 5 null activities: ',data['Source 5 - Activity'].isnull().sum())\n",
    "print('Source 6 null activities: ',data['Source 6 - Activity'].isnull().sum())"
   ]
  },
  {
   "cell_type": "code",
   "execution_count": 60,
   "metadata": {},
   "outputs": [
    {
     "name": "stdout",
     "output_type": "stream",
     "text": [
      "3267\n"
     ]
    },
    {
     "name": "stderr",
     "output_type": "stream",
     "text": [
      "C:\\Users\\bogda\\AppData\\Local\\Temp\\ipykernel_41296\\4056033709.py:1: FutureWarning: A value is trying to be set on a copy of a DataFrame or Series through chained assignment using an inplace method.\n",
      "The behavior will change in pandas 3.0. This inplace method will never work because the intermediate object on which we are setting values always behaves as a copy.\n",
      "\n",
      "For example, when doing 'df[col].method(value, inplace=True)', try using 'df.method({col: value}, inplace=True)' or df[col] = df[col].method(value) instead, to perform the operation inplace on the original object.\n",
      "\n",
      "\n",
      "  data['Source 3 - Activity'].fillna(data['Source 6 - Activity'], inplace=True)\n"
     ]
    }
   ],
   "source": [
    "data['Source 3 - Activity'].fillna(data['Source 6 - Activity'], inplace=True) \n",
    "print(data['Source 3 - Activity'].isnull().sum())"
   ]
  },
  {
   "cell_type": "code",
   "execution_count": 61,
   "metadata": {},
   "outputs": [
    {
     "name": "stdout",
     "output_type": "stream",
     "text": [
      "3267\n"
     ]
    }
   ],
   "source": [
    "data['Source 3 - Activity'].fillna(data['Source 2 - Activity'], inplace=True) \n",
    "print(data['Source 3 - Activity'].isnull().sum())"
   ]
  },
  {
   "cell_type": "code",
   "execution_count": 62,
   "metadata": {},
   "outputs": [
    {
     "name": "stdout",
     "output_type": "stream",
     "text": [
      "2831\n"
     ]
    }
   ],
   "source": [
    "data['Source 3 - Activity'].fillna(data['Source 4 - Activity'], inplace=True) \n",
    "print(data['Source 3 - Activity'].isnull().sum())"
   ]
  },
  {
   "cell_type": "code",
   "execution_count": 63,
   "metadata": {},
   "outputs": [
    {
     "name": "stdout",
     "output_type": "stream",
     "text": [
      "2819\n"
     ]
    }
   ],
   "source": [
    "data['Source 3 - Activity'].fillna(data['Source 5 - Activity'], inplace=True) \n",
    "print(data['Source 3 - Activity'].isnull().sum())"
   ]
  },
  {
   "cell_type": "code",
   "execution_count": 64,
   "metadata": {},
   "outputs": [],
   "source": [
    "data.drop(['Source 2 - Activity', 'Source 4 - Activity', \n",
    "           'Source 5 - Activity', 'Source 6 - Activity'], axis=1, inplace=True) # drop column Source 2 - Activity, Source 4 - Activity, Source 5 - Activity, Source 6 - Activity since it's no longer needed"
   ]
  },
  {
   "cell_type": "markdown",
   "metadata": {},
   "source": [
    "### Location\n",
    "\n",
    "Starting off by dropping the Source 2 location columns since they have either missing, or repeating data that can be found in the Source 1 column.\n",
    "\n",
    "Also dropping the Source 1 separate columns and keeping the full address."
   ]
  },
  {
   "cell_type": "code",
   "execution_count": 66,
   "metadata": {},
   "outputs": [],
   "source": [
    "data.drop(['Source 2 - City', 'Source 2 - Region', 'Source 2 - Country', \n",
    "           'Source 1 - City', 'Source 1 - Region', 'Source 1 - Country'], axis=1, inplace=True)  "
   ]
  },
  {
   "cell_type": "code",
   "execution_count": 67,
   "metadata": {},
   "outputs": [
    {
     "data": {
      "text/html": [
       "<div>\n",
       "<style scoped>\n",
       "    .dataframe tbody tr th:only-of-type {\n",
       "        vertical-align: middle;\n",
       "    }\n",
       "\n",
       "    .dataframe tbody tr th {\n",
       "        vertical-align: top;\n",
       "    }\n",
       "\n",
       "    .dataframe thead th {\n",
       "        text-align: right;\n",
       "    }\n",
       "</style>\n",
       "<table border=\"1\" class=\"dataframe\">\n",
       "  <thead>\n",
       "    <tr style=\"text-align: right;\">\n",
       "      <th></th>\n",
       "      <th>Source 1 - full address</th>\n",
       "      <th>Source 3 - Website</th>\n",
       "      <th>Source 3 - Activity</th>\n",
       "      <th>Source 3 - Country</th>\n",
       "      <th>Source 3 - Region</th>\n",
       "      <th>Source 3 - City</th>\n",
       "      <th>Source 3 - Phone</th>\n",
       "    </tr>\n",
       "  </thead>\n",
       "  <tbody>\n",
       "    <tr>\n",
       "      <th>0</th>\n",
       "      <td>32 BLUE SPRINGS RD NORTH YORK ON M6L2T3 CA</td>\n",
       "      <td>safeelectricalsolutions.ca</td>\n",
       "      <td>Electrical &amp; Wiring Contractors</td>\n",
       "      <td>canada</td>\n",
       "      <td>ontario</td>\n",
       "      <td>scarborough</td>\n",
       "      <td>14162367100.0</td>\n",
       "    </tr>\n",
       "    <tr>\n",
       "      <th>1</th>\n",
       "      <td>ON CA</td>\n",
       "      <td>auto-master.com</td>\n",
       "      <td>NaN</td>\n",
       "      <td>united states</td>\n",
       "      <td>texas</td>\n",
       "      <td>houston</td>\n",
       "      <td>18559929913.0</td>\n",
       "    </tr>\n",
       "    <tr>\n",
       "      <th>3</th>\n",
       "      <td>2000 TALBOT RD WINDSOR ON N9A6S4 CA</td>\n",
       "      <td>stclaircollege.ca</td>\n",
       "      <td>NaN</td>\n",
       "      <td>canada</td>\n",
       "      <td>ontario</td>\n",
       "      <td>windsor</td>\n",
       "      <td>15199722727.0</td>\n",
       "    </tr>\n",
       "    <tr>\n",
       "      <th>5</th>\n",
       "      <td>847 DES ORMES LÉVIS QC G7A4A7 CA</td>\n",
       "      <td>primusconstruction.ca</td>\n",
       "      <td>NaN</td>\n",
       "      <td>NaN</td>\n",
       "      <td>NaN</td>\n",
       "      <td>NaN</td>\n",
       "      <td>4184555425.0</td>\n",
       "    </tr>\n",
       "    <tr>\n",
       "      <th>6</th>\n",
       "      <td>A-6 WESTWOOD DR DARTMOUTH NS B2X1Y4 CA</td>\n",
       "      <td>allgreentreecare.com</td>\n",
       "      <td>Tree Services</td>\n",
       "      <td>canada</td>\n",
       "      <td>nova scotia</td>\n",
       "      <td>halifax</td>\n",
       "      <td>19024447336.0</td>\n",
       "    </tr>\n",
       "  </tbody>\n",
       "</table>\n",
       "</div>"
      ],
      "text/plain": [
       "                      Source 1 - full address          Source 3 - Website  \\\n",
       "0  32 BLUE SPRINGS RD NORTH YORK ON M6L2T3 CA  safeelectricalsolutions.ca   \n",
       "1                                       ON CA             auto-master.com   \n",
       "3         2000 TALBOT RD WINDSOR ON N9A6S4 CA           stclaircollege.ca   \n",
       "5            847 DES ORMES LÉVIS QC G7A4A7 CA       primusconstruction.ca   \n",
       "6      A-6 WESTWOOD DR DARTMOUTH NS B2X1Y4 CA        allgreentreecare.com   \n",
       "\n",
       "               Source 3 - Activity Source 3 - Country Source 3 - Region  \\\n",
       "0  Electrical & Wiring Contractors             canada           ontario   \n",
       "1                              NaN      united states             texas   \n",
       "3                              NaN             canada           ontario   \n",
       "5                              NaN                NaN               NaN   \n",
       "6                    Tree Services             canada       nova scotia   \n",
       "\n",
       "  Source 3 - City Source 3 - Phone  \n",
       "0     scarborough    14162367100.0  \n",
       "1         houston    18559929913.0  \n",
       "3         windsor    15199722727.0  \n",
       "5             NaN     4184555425.0  \n",
       "6         halifax    19024447336.0  "
      ]
     },
     "execution_count": 67,
     "metadata": {},
     "output_type": "execute_result"
    }
   ],
   "source": [
    "data.head()"
   ]
  },
  {
   "cell_type": "code",
   "execution_count": 69,
   "metadata": {},
   "outputs": [
    {
     "name": "stdout",
     "output_type": "stream",
     "text": [
      "1\n"
     ]
    }
   ],
   "source": [
    "print(data['Source 1 - full address'].isnull().sum())"
   ]
  },
  {
   "cell_type": "markdown",
   "metadata": {},
   "source": [
    "All the locations from the first source are based in Canada, while by looking at the source 3 country column it seems that it has multiple countries. After checking some of the website URLs it seems that it coresponds with the Canadian location so we will mostly use the Source 1 information. But, the first source seems to have a missing value, so I will combine the Source 3 location info and replace the missing value with it."
   ]
  },
  {
   "cell_type": "code",
   "execution_count": 71,
   "metadata": {},
   "outputs": [],
   "source": [
    "data['Source 3 - full address'] = data['Source 3 - City'] + ', ' + data['Source 3 - Region'] + ', ' + data['Source 3 - Country']"
   ]
  },
  {
   "cell_type": "code",
   "execution_count": 72,
   "metadata": {},
   "outputs": [],
   "source": [
    "data['Source 1 - full address'].fillna(data['Source 3 - full address'], inplace=True) "
   ]
  },
  {
   "cell_type": "code",
   "execution_count": 73,
   "metadata": {},
   "outputs": [],
   "source": [
    "data.drop(['Source 3 - City', 'Source 3 - Region', 'Source 3 - Country', 'Source 3 - full address'], axis=1, inplace=True)"
   ]
  },
  {
   "cell_type": "markdown",
   "metadata": {},
   "source": [
    "## Rename the columns"
   ]
  },
  {
   "cell_type": "code",
   "execution_count": 75,
   "metadata": {},
   "outputs": [],
   "source": [
    "data.rename(columns={'Source 1 - full address': 'Location', \n",
    "                     'Source 3 - Website': 'Website', \n",
    "                     'Source 3 - Activity': 'Business Activity',\n",
    "                     'Source 3 - Phone': 'Phone Number'}, \n",
    "                     inplace=True)"
   ]
  },
  {
   "cell_type": "code",
   "execution_count": 76,
   "metadata": {},
   "outputs": [
    {
     "data": {
      "text/html": [
       "<div>\n",
       "<style scoped>\n",
       "    .dataframe tbody tr th:only-of-type {\n",
       "        vertical-align: middle;\n",
       "    }\n",
       "\n",
       "    .dataframe tbody tr th {\n",
       "        vertical-align: top;\n",
       "    }\n",
       "\n",
       "    .dataframe thead th {\n",
       "        text-align: right;\n",
       "    }\n",
       "</style>\n",
       "<table border=\"1\" class=\"dataframe\">\n",
       "  <thead>\n",
       "    <tr style=\"text-align: right;\">\n",
       "      <th></th>\n",
       "      <th>Location</th>\n",
       "      <th>Website</th>\n",
       "      <th>Business Activity</th>\n",
       "      <th>Phone Number</th>\n",
       "    </tr>\n",
       "  </thead>\n",
       "  <tbody>\n",
       "    <tr>\n",
       "      <th>0</th>\n",
       "      <td>32 BLUE SPRINGS RD NORTH YORK ON M6L2T3 CA</td>\n",
       "      <td>safeelectricalsolutions.ca</td>\n",
       "      <td>Electrical &amp; Wiring Contractors</td>\n",
       "      <td>14162367100.0</td>\n",
       "    </tr>\n",
       "    <tr>\n",
       "      <th>1</th>\n",
       "      <td>ON CA</td>\n",
       "      <td>auto-master.com</td>\n",
       "      <td>NaN</td>\n",
       "      <td>18559929913.0</td>\n",
       "    </tr>\n",
       "    <tr>\n",
       "      <th>3</th>\n",
       "      <td>2000 TALBOT RD WINDSOR ON N9A6S4 CA</td>\n",
       "      <td>stclaircollege.ca</td>\n",
       "      <td>NaN</td>\n",
       "      <td>15199722727.0</td>\n",
       "    </tr>\n",
       "    <tr>\n",
       "      <th>5</th>\n",
       "      <td>847 DES ORMES LÉVIS QC G7A4A7 CA</td>\n",
       "      <td>primusconstruction.ca</td>\n",
       "      <td>NaN</td>\n",
       "      <td>4184555425.0</td>\n",
       "    </tr>\n",
       "    <tr>\n",
       "      <th>6</th>\n",
       "      <td>A-6 WESTWOOD DR DARTMOUTH NS B2X1Y4 CA</td>\n",
       "      <td>allgreentreecare.com</td>\n",
       "      <td>Tree Services</td>\n",
       "      <td>19024447336.0</td>\n",
       "    </tr>\n",
       "  </tbody>\n",
       "</table>\n",
       "</div>"
      ],
      "text/plain": [
       "                                     Location                     Website  \\\n",
       "0  32 BLUE SPRINGS RD NORTH YORK ON M6L2T3 CA  safeelectricalsolutions.ca   \n",
       "1                                       ON CA             auto-master.com   \n",
       "3         2000 TALBOT RD WINDSOR ON N9A6S4 CA           stclaircollege.ca   \n",
       "5            847 DES ORMES LÉVIS QC G7A4A7 CA       primusconstruction.ca   \n",
       "6      A-6 WESTWOOD DR DARTMOUTH NS B2X1Y4 CA        allgreentreecare.com   \n",
       "\n",
       "                 Business Activity   Phone Number  \n",
       "0  Electrical & Wiring Contractors  14162367100.0  \n",
       "1                              NaN  18559929913.0  \n",
       "3                              NaN  15199722727.0  \n",
       "5                              NaN   4184555425.0  \n",
       "6                    Tree Services  19024447336.0  "
      ]
     },
     "execution_count": 76,
     "metadata": {},
     "output_type": "execute_result"
    }
   ],
   "source": [
    "data.head()"
   ]
  },
  {
   "cell_type": "markdown",
   "metadata": {},
   "source": [
    "## Save as CSV\n",
    "\n",
    "Lastly, save the clean data into a new CSV file."
   ]
  },
  {
   "cell_type": "code",
   "execution_count": 77,
   "metadata": {},
   "outputs": [],
   "source": [
    "data.to_csv('../resources/cleaned_data.csv', index=False)"
   ]
  }
 ],
 "metadata": {
  "kernelspec": {
   "display_name": ".venv",
   "language": "python",
   "name": "python3"
  },
  "language_info": {
   "codemirror_mode": {
    "name": "ipython",
    "version": 3
   },
   "file_extension": ".py",
   "mimetype": "text/x-python",
   "name": "python",
   "nbconvert_exporter": "python",
   "pygments_lexer": "ipython3",
   "version": "3.11.5"
  }
 },
 "nbformat": 4,
 "nbformat_minor": 2
}
